{
 "cells": [
  {
   "cell_type": "code",
   "execution_count": 1,
   "metadata": {},
   "outputs": [
    {
     "name": "stdout",
     "output_type": "stream",
     "text": [
      "[*********************100%%**********************]  1 of 1 completed\n"
     ]
    },
    {
     "name": "stderr",
     "output_type": "stream",
     "text": [
      "10:49:08 - cmdstanpy - INFO - Chain [1] start processing\n",
      "10:49:13 - cmdstanpy - INFO - Chain [1] done processing\n"
     ]
    },
    {
     "name": "stdout",
     "output_type": "stream",
     "text": [
      "185.6123207353592\n"
     ]
    },
    {
     "name": "stderr",
     "output_type": "stream",
     "text": [
      "10:49:13 - cmdstanpy - INFO - Chain [1] start processing\n",
      "10:49:16 - cmdstanpy - INFO - Chain [1] done processing\n"
     ]
    },
    {
     "name": "stdout",
     "output_type": "stream",
     "text": [
      "185.47275375473274\n",
      "2024-02-13 11:30:00: Prediction (Prophet) - 185.47275375473274, Accuracy (Prophet) - 50.0%, \n"
     ]
    },
    {
     "name": "stderr",
     "output_type": "stream",
     "text": [
      "10:49:17 - cmdstanpy - INFO - Chain [1] start processing\n",
      "10:49:26 - cmdstanpy - INFO - Chain [1] done processing\n"
     ]
    },
    {
     "name": "stdout",
     "output_type": "stream",
     "text": [
      "185.291995616037\n",
      "2024-02-13 12:30:00: Prediction (Prophet) - 185.291995616037, Accuracy (Prophet) - 66.66666666666666%, \n"
     ]
    },
    {
     "name": "stderr",
     "output_type": "stream",
     "text": [
      "10:49:26 - cmdstanpy - INFO - Chain [1] start processing\n",
      "10:49:40 - cmdstanpy - INFO - Chain [1] done processing\n"
     ]
    },
    {
     "name": "stdout",
     "output_type": "stream",
     "text": [
      "184.26816902260728\n",
      "2024-02-13 13:30:00: Prediction (Prophet) - 184.26816902260728, Accuracy (Prophet) - 75.0%, \n"
     ]
    },
    {
     "name": "stderr",
     "output_type": "stream",
     "text": [
      "10:49:41 - cmdstanpy - INFO - Chain [1] start processing\n",
      "10:49:41 - cmdstanpy - INFO - Chain [1] done processing\n"
     ]
    },
    {
     "name": "stdout",
     "output_type": "stream",
     "text": [
      "183.6426802953583\n",
      "2024-02-13 14:30:00: Prediction (Prophet) - 183.6426802953583, Accuracy (Prophet) - 80.0%, \n",
      "Minute data with predictions and accuracy based on both models saved to minute_data_aapl_with_prediction_oop.csv\n"
     ]
    }
   ],
   "source": [
    "import yfinance as yf\n",
    "import pandas as pd\n",
    "from prophet import Prophet\n",
    "import numpy as np\n",
    "\n",
    "class MinuteDataPredictor:\n",
    "    def __init__(self, symbol, file_path):\n",
    "        self.symbol = symbol\n",
    "        self.file_path = file_path\n",
    "        self.minute_data = None\n",
    "    \n",
    "    def fetch_minute_data(self):\n",
    "        try:\n",
    "            # Fetch historical data for the last x amount of days with x amount of minute intervals\n",
    "            data = yf.download(self.symbol, period='1d', interval='60m')\n",
    "\n",
    "            # Select only the 'Close' prices and reset the index to include 'Timestamp'\n",
    "            self.minute_data = data[['Close']].reset_index()\n",
    "\n",
    "            # Rename columns to match 'Timestamp' and 'Price'\n",
    "            self.minute_data.rename(columns={'Datetime': 'Timestamp', 'Close': 'Price'}, inplace=True)\n",
    "\n",
    "            # Format the timestamp column\n",
    "            self.minute_data['Timestamp'] = self.minute_data['Timestamp'].dt.strftime(\"%Y-%m-%d %H:%M:%S\")\n",
    "\n",
    "            # Add empty columns for 'Prediction' and 'Accuracy'\n",
    "            self.minute_data['Prediction_Prophet'] = None\n",
    "            self.minute_data['Accuracy_Prophet'] = None\n",
    "        \n",
    "        except Exception as e:\n",
    "            print(f\"Error fetching minute data: {e}\")\n",
    "\n",
    "    def prophet_predictions(self, data):\n",
    "        data = data[['Timestamp', 'Price']].copy()\n",
    "        data.rename(columns={'Timestamp': 'ds', 'Price': 'y'}, inplace=True)\n",
    "        model = Prophet()\n",
    "        model.fit(data)\n",
    "        future = model.make_future_dataframe(periods=1, freq='min')\n",
    "        forecast = model.predict(future)\n",
    "        next_minute_prediction = forecast['yhat'].iloc[-1]\n",
    "        print(next_minute_prediction)\n",
    "        return next_minute_prediction\n",
    "    \n",
    "    def calculate_accuracy(self, next_minute_prediction_prophet, i):\n",
    "            correct_predictions = 0\n",
    "            for j in range(1, i):\n",
    "                \n",
    "                actual_price = self.minute_data.loc[j, 'Price']\n",
    "                actual_change = self.minute_data.loc[j + 1, 'Price'] - actual_price\n",
    "                predicted_change = next_minute_prediction_prophet - actual_price\n",
    "               # print(\"the actual price is : \", actual_price, \"actual change = \",actual_change)\n",
    "               # print(\"the prediction price (forecasting +1min) is : \", next_minute_prediction_prophet, \"predicted change = \",predicted_change)\n",
    "                \n",
    "                if (predicted_change > 0 and actual_change > 0 ):\n",
    "                    correct_predictions += 1\n",
    "\n",
    "                if (predicted_change < 0 and actual_change < 0 ):\n",
    "                    correct_predictions += 1\n",
    "\n",
    "            if correct_predictions == 0 :\n",
    "                return 0\n",
    "            else:\n",
    "                accuracy = (correct_predictions / i) * 100\n",
    "                return accuracy\n",
    "\n",
    "    def save_minute_data_with_predictions(self):\n",
    "        try:\n",
    "            self.fetch_minute_data()\n",
    "\n",
    "            for i in range(1, len(self.minute_data) - 1):\n",
    "                previous_data = self.minute_data.iloc[:i + 1].copy()\n",
    "                \n",
    "                # Make predictions using Prophet model\n",
    "                next_minute_prediction_prophet = self.prophet_predictions(previous_data)\n",
    "                self.minute_data.at[i, 'Prediction_Prophet'] = next_minute_prediction_prophet\n",
    "\n",
    "                # Calculate accuracy for Prophet model\n",
    "                accuracy_percentage_prophet = self.calculate_accuracy(next_minute_prediction_prophet, i)\n",
    "                self.minute_data.at[i, 'Accuracy_Prophet'] = accuracy_percentage_prophet\n",
    "                if len(previous_data) > 2:\n",
    "                    print(f\"{self.minute_data.at[i, 'Timestamp']}: \"\n",
    "                        f\"Prediction (Prophet) - {next_minute_prediction_prophet}, \"\n",
    "                        f\"Accuracy (Prophet) - {accuracy_percentage_prophet}%, \"\n",
    "                       )\n",
    "            # Save data to a CSV file\n",
    "            self.minute_data.to_csv(self.file_path, index=False)\n",
    "            print(f\"Minute data with predictions and accuracy based on both models saved to {self.file_path}\")\n",
    "\n",
    "        except Exception as e:\n",
    "            print(f\"Error: {e}\")\n",
    "predictor = MinuteDataPredictor(symbol='AAPL', file_path='minute_data_aapl_with_prediction_oop.csv')\n",
    "\n",
    "predictor.save_minute_data_with_predictions()"
   ]
  }
 ],
 "metadata": {
  "kernelspec": {
   "display_name": "Python 3",
   "language": "python",
   "name": "python3"
  },
  "language_info": {
   "codemirror_mode": {
    "name": "ipython",
    "version": 3
   },
   "file_extension": ".py",
   "mimetype": "text/x-python",
   "name": "python",
   "nbconvert_exporter": "python",
   "pygments_lexer": "ipython3",
   "version": "3.11.4"
  }
 },
 "nbformat": 4,
 "nbformat_minor": 2
}
